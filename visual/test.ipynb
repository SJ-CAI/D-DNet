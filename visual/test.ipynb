{
 "cells": [
  {
   "cell_type": "code",
   "execution_count": 1,
   "id": "initial_id",
   "metadata": {
    "collapsed": true,
    "ExecuteTime": {
     "end_time": "2024-03-17T12:47:21.018879Z",
     "start_time": "2024-03-17T12:47:21.012801Z"
    }
   },
   "outputs": [
    {
     "name": "stdout",
     "output_type": "stream",
     "text": [
      "Dictionary successfully written to data.csv\n"
     ]
    }
   ],
   "source": [
    "import csv\n",
    "\n",
    "data_dict = {\n",
    "    1: {'Name': 'John Doe', 'Age': 30, 'City': 'New York'},\n",
    "    2: {'Name': 'Jane Smith', 'Age': 25, 'City': 'Los Angeles'},\n",
    "    3: {'Name': 'Emily Davis', 'Age': 22, 'City': 'Chicago'}\n",
    "}\n",
    "\n",
    "# Define the filename where you want to store the data\n",
    "filename = 'data.csv'\n",
    "\n",
    "# Open the file in write mode\n",
    "with open(filename, 'w', newline='') as csvfile:\n",
    "    # Assuming all dictionaries have the same structure, get the headers (keys) from the first item\n",
    "    fieldnames = data_dict[next(iter(data_dict))].keys()\n",
    "    \n",
    "    # Create a writer object, specifying the fieldnames\n",
    "    writer = csv.DictWriter(csvfile, fieldnames=fieldnames)\n",
    "    \n",
    "    # Write the header row\n",
    "    writer.writeheader()\n",
    "    \n",
    "    # Write the data rows\n",
    "    for key, value in data_dict.items():\n",
    "        writer.writerow(value)\n",
    "\n",
    "print(f'Dictionary successfully written to {filename}')\n"
   ]
  }
 ],
 "metadata": {
  "kernelspec": {
   "display_name": "Python 3",
   "language": "python",
   "name": "python3"
  },
  "language_info": {
   "codemirror_mode": {
    "name": "ipython",
    "version": 2
   },
   "file_extension": ".py",
   "mimetype": "text/x-python",
   "name": "python",
   "nbconvert_exporter": "python",
   "pygments_lexer": "ipython2",
   "version": "2.7.6"
  }
 },
 "nbformat": 4,
 "nbformat_minor": 5
}
